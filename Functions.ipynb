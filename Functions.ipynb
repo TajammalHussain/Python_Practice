{
 "cells": [
  {
   "cell_type": "code",
   "execution_count": 3,
   "id": "8ca27c48",
   "metadata": {},
   "outputs": [],
   "source": [
    "def happy_new_year(wishes = False):\n",
    "    print(\"Three...\")\n",
    "    print(\"Two...\")\n",
    "    print(\"One...\")\n",
    "    if not wishes:\n",
    "        return\n",
    " \n",
    "    print(\"Happy New Year!\")"
   ]
  },
  {
   "cell_type": "code",
   "execution_count": 4,
   "id": "f0d9fe4d",
   "metadata": {},
   "outputs": [
    {
     "name": "stdout",
     "output_type": "stream",
     "text": [
      "The boring_function has returned its result. It's: 123\n"
     ]
    }
   ],
   "source": [
    "def boring_function():\n",
    "    return 123\n",
    " \n",
    "x = boring_function()\n",
    " \n",
    "print(\"The boring_function has returned its result. It's:\", x)"
   ]
  },
  {
   "cell_type": "code",
   "execution_count": 6,
   "id": "b80cece8",
   "metadata": {},
   "outputs": [
    {
     "name": "stdout",
     "output_type": "stream",
     "text": [
      " mera kam is transferred to:  145236789\n"
     ]
    }
   ],
   "source": [
    "def merakam():\n",
    "    return 145236789\n",
    "x= merakam()\n",
    "print(\" mera kam is transferred to: \", x)"
   ]
  },
  {
   "cell_type": "code",
   "execution_count": 9,
   "id": "435ce0b4",
   "metadata": {},
   "outputs": [
    {
     "name": "stdout",
     "output_type": "stream",
     "text": [
      "True\n",
      "False\n"
     ]
    }
   ],
   "source": [
    "def check(n):\n",
    "    if(n%2== 0):\n",
    "        return True\n",
    "    else:\n",
    "        return False\n",
    "print(check(50))\n",
    "print(check(6+9))"
   ]
  },
  {
   "cell_type": "code",
   "execution_count": 11,
   "id": "ef126f09",
   "metadata": {},
   "outputs": [
    {
     "name": "stdout",
     "output_type": "stream",
     "text": [
      "True\n"
     ]
    }
   ],
   "source": [
    "def check(n, p, s):\n",
    "    if(n%2== 0):\n",
    "        return True\n",
    "    elif (p==23):\n",
    "        return True\n",
    "    elif (s!=30):\n",
    "        return False\n",
    "    else:\n",
    "        return False\n",
    "    \n",
    "print(check(50, 23, 56))\n"
   ]
  },
  {
   "cell_type": "code",
   "execution_count": null,
   "id": "6d47ec02",
   "metadata": {},
   "outputs": [],
   "source": []
  },
  {
   "cell_type": "code",
   "execution_count": 12,
   "id": "7b8c40e9",
   "metadata": {},
   "outputs": [
    {
     "name": "stdout",
     "output_type": "stream",
     "text": [
      "18\n"
     ]
    }
   ],
   "source": [
    "def listsum(list):\n",
    "    s=0\n",
    "    for elmt in list:\n",
    "        s+= elmt\n",
    "    return s\n",
    "print(listsum([2,3,4,6,3]))"
   ]
  },
  {
   "cell_type": "code",
   "execution_count": 27,
   "id": "e1c8f01e",
   "metadata": {},
   "outputs": [
    {
     "name": "stdout",
     "output_type": "stream",
     "text": [
      "\n",
      " First List:  18\n",
      "\n",
      " Second List:  29\n",
      "\n",
      " Third list by Subtracting 10 from total:  47\n"
     ]
    }
   ],
   "source": [
    "def listsum(list):\n",
    "    s=0\n",
    "    for elmt in list:\n",
    "        s+= elmt\n",
    "    return s\n",
    "print(\"\\n First List: \", listsum([2,3,4,6,3]))\n",
    "\n",
    "# adding 2 more in the given list\n",
    "def ndsum(lst):\n",
    "    t= 2\n",
    "    for el in lst:\n",
    "        t+= el\n",
    "    return t\n",
    "print(\"\\n Second List: \", ndsum([12,2,13]))\n",
    "\n",
    "# Subtracting 10 from the list\n",
    "\n",
    "def trdsub(que):\n",
    "    q= -10\n",
    "    for e in que:\n",
    "        q+= e\n",
    "    return q\n",
    "print(\"\\n Third list by Subtracting 10 from total: \", trdsub([12,12,12,21]))\n",
    "\n",
    "\n",
    "        "
   ]
  },
  {
   "cell_type": "code",
   "execution_count": null,
   "id": "960c8705",
   "metadata": {},
   "outputs": [],
   "source": []
  },
  {
   "cell_type": "code",
   "execution_count": 40,
   "id": "193b98db",
   "metadata": {},
   "outputs": [
    {
     "name": "stdout",
     "output_type": "stream",
     "text": [
      "[0, 1, 2, 3, 4, 5, 6, 7, 8, 9]\n"
     ]
    }
   ],
   "source": [
    "# how to show results as lists through function\n",
    "# sorting the list\n",
    "def mylist(n):\n",
    "    list= []\n",
    "    for i in range(0, n):\n",
    "        list.insert(0, i)\n",
    "    return list\n",
    "mylist(10)\n",
    "x= mylist(10)\n",
    "x.sort()\n",
    "print(x)"
   ]
  },
  {
   "cell_type": "code",
   "execution_count": 43,
   "id": "e64315cb",
   "metadata": {},
   "outputs": [
    {
     "name": "stdout",
     "output_type": "stream",
     "text": [
      "365\n"
     ]
    }
   ],
   "source": [
    "def is_year_leap(year):\n",
    "    if year % 4 != 0:\n",
    "        return False\n",
    "    elif year % 100 != 0:\n",
    "        return True\n",
    "    elif year % 400 != 0:\n",
    "        return False\n",
    "    else:\n",
    "        return True\n",
    "\n",
    "def days_in_month(year, month):\n",
    "    if year < 1582 or month < 1 or month > 12:\n",
    "        return None\n",
    "    days = [31, 28, 31, 30, 31, 30, 31, 31, 30, 31, 30, 31]\n",
    "    res  = days[month - 1]\n",
    "    if month == 2 and is_year_leap(year):\n",
    "        res = 29\n",
    "    return res\n",
    "\n",
    "def day_of_year(year, month, day):\n",
    "    days = 0\n",
    "    for m in range(1, month):\n",
    "        md = days_in_month(year, m)\n",
    "        if md == None:\n",
    "            return None\n",
    "        days += md\n",
    "    md = days_in_month(year, month)\n",
    "    if day >= 1 and day <= md:\n",
    "        return days + day\n",
    "    else:\n",
    "        return None\n",
    "\n",
    "print(day_of_year(2021, 12, 31))\n"
   ]
  },
  {
   "cell_type": "code",
   "execution_count": null,
   "id": "d5813ad0",
   "metadata": {},
   "outputs": [],
   "source": [
    "A natural number is prime if it is greater than 1 and has no divisors other than 1 and itself.\n",
    "\n",
    "Complicated? Not at all. For example, 8 isn't a prime number, as you can divide it by 2 and 4 (we can't use divisors equal to 1 and 8, as the definition prohibits this).\n",
    "\n",
    "On the other hand, 7 is a prime number, as we can't find any legal divisors for it.\n",
    "\n",
    "Your task is to write a function checking whether a number is prime or not.\n",
    "\n",
    "The function:\n",
    "\n",
    "is called is_prime;\n",
    "takes one argument (the value to check)\n",
    "returns True if the argument is a prime number, and False otherwise.\n",
    "Hint: try to divide the argument by all subsequent values (starting from 2) and check the remainder ‒ if it's zero, your number cannot be a prime; think carefully about when you should stop the process.\n",
    "\n",
    "If you need to know the square root of any value, you can utilize the ** operator. Remember: the square root of x is the same as x0.5\n",
    "\n",
    "Complete the code in the editor."
   ]
  },
  {
   "cell_type": "code",
   "execution_count": 44,
   "id": "4a75f7f5",
   "metadata": {},
   "outputs": [
    {
     "name": "stdout",
     "output_type": "stream",
     "text": [
      "2 3 5 7 11 13 17 19 \n"
     ]
    }
   ],
   "source": [
    "def is_prime(num):\n",
    "    for i in range(2, int(1 + num ** 0.5)):\n",
    "        if num % i == 0:\n",
    "            return False\n",
    "    return True\n",
    "\n",
    "for i in range(1, 20):\n",
    "    if is_prime(i + 1):\n",
    "        print(i + 1, end=\" \")\n",
    "print()\n"
   ]
  },
  {
   "cell_type": "code",
   "execution_count": 45,
   "id": "8511478b",
   "metadata": {},
   "outputs": [
    {
     "name": "stdout",
     "output_type": "stream",
     "text": [
      "60.31143162393162\n",
      "31.36194444444444\n",
      "23.52145833333333\n",
      "3.9007393587617467\n",
      "7.490910297239916\n",
      "10.009131205673757\n"
     ]
    }
   ],
   "source": [
    "# 1 American mile = 1609.344 metres\n",
    "# 1 American gallon = 3.785411784 litres\n",
    "\n",
    "def liters_100km_to_miles_gallon(litres):\n",
    "    gallons = litres / 3.785411784\n",
    "    miles = 100 * 1000 / 1609.344\n",
    "    return miles / gallons\n",
    "\n",
    "def miles_gallon_to_liters_100km(miles):\n",
    "    km100 = miles * 1609.344 / 1000 / 100\n",
    "    litres = 3.785411784\n",
    "    return litres / km100\n",
    "\n",
    "print(liters_100km_to_miles_gallon(3.9))\n",
    "print(liters_100km_to_miles_gallon(7.5))\n",
    "print(liters_100km_to_miles_gallon(10.))\n",
    "print(miles_gallon_to_liters_100km(60.3))\n",
    "print(miles_gallon_to_liters_100km(31.4))\n",
    "print(miles_gallon_to_liters_100km(23.5))\n"
   ]
  },
  {
   "cell_type": "code",
   "execution_count": 46,
   "id": "5f502a75",
   "metadata": {},
   "outputs": [
    {
     "name": "stdout",
     "output_type": "stream",
     "text": [
      "12\n",
      "None\n"
     ]
    }
   ],
   "source": [
    "# 1. You can use the return keyword to tell a function to return some value. The return statement exits the function, e.g.:\n",
    "\n",
    "def multiply(a, b):\n",
    "    return a * b\n",
    " \n",
    "print(multiply(3, 4)) # outputs: 12\n",
    " \n",
    " \n",
    "def multiply(a, b):\n",
    "    return\n",
    " \n",
    "print(multiply(3, 4)) # outputs: None\n",
    " "
   ]
  },
  {
   "cell_type": "code",
   "execution_count": 54,
   "id": "3f882aae",
   "metadata": {},
   "outputs": [
    {
     "name": "stdout",
     "output_type": "stream",
     "text": [
      "27\n"
     ]
    }
   ],
   "source": [
    "elem=3\n",
    "elem **= 3\n",
    "print(elem)"
   ]
  },
  {
   "cell_type": "code",
   "execution_count": 56,
   "id": "ba037d4c",
   "metadata": {},
   "outputs": [
    {
     "name": "stdout",
     "output_type": "stream",
     "text": [
      "my value is:  3\n",
      "3\n"
     ]
    }
   ],
   "source": [
    "# initiallising and variable with the keyword \"global\" will enable that value to be accessed anywhere from with th function and outside of that. \n",
    "\n",
    "def my():\n",
    "    global var\n",
    "    var = 3\n",
    "    print(\"my value is: \", var)\n",
    "var=1\n",
    "my()\n",
    "print(var)\n"
   ]
  },
  {
   "cell_type": "code",
   "execution_count": 62,
   "id": "600266df",
   "metadata": {},
   "outputs": [
    {
     "name": "stdout",
     "output_type": "stream",
     "text": [
      "9\n"
     ]
    }
   ],
   "source": [
    "def mult(x):\n",
    "    var= 3\n",
    "    return x*var\n",
    "    \n",
    "var = 7\n",
    "print(mult(3))\n",
    "    \n",
    "    "
   ]
  },
  {
   "cell_type": "code",
   "execution_count": 64,
   "id": "5bf349e3",
   "metadata": {},
   "outputs": [
    {
     "name": "stdout",
     "output_type": "stream",
     "text": [
      "10.0\n",
      "9\n"
     ]
    }
   ],
   "source": [
    "def div(u):\n",
    "    var = 4\n",
    "    return u/var\n",
    "\n",
    "var = 9\n",
    "print(div(40))\n",
    "print(var)"
   ]
  },
  {
   "cell_type": "code",
   "execution_count": 65,
   "id": "901d4889",
   "metadata": {},
   "outputs": [
    {
     "name": "stdout",
     "output_type": "stream",
     "text": [
      "10.0\n",
      "9\n"
     ]
    }
   ],
   "source": [
    "var = 2 #in this case the value of var does not affect the function. \n",
    "\n",
    "def div(u):\n",
    "    var = 4\n",
    "    return u/var\n",
    "\n",
    "var = 9\n",
    "print(div(40))\n",
    "print(var)"
   ]
  },
  {
   "cell_type": "code",
   "execution_count": 76,
   "id": "1048963f",
   "metadata": {},
   "outputs": [
    {
     "ename": "TypeError",
     "evalue": "div() missing 1 required positional argument: 'u'",
     "output_type": "error",
     "traceback": [
      "\u001b[1;31m---------------------------------------------------------------------------\u001b[0m",
      "\u001b[1;31mTypeError\u001b[0m                                 Traceback (most recent call last)",
      "Input \u001b[1;32mIn [76]\u001b[0m, in \u001b[0;36m<cell line: 4>\u001b[1;34m()\u001b[0m\n\u001b[0;32m      2\u001b[0m     k \u001b[38;5;241m=\u001b[39m \u001b[38;5;241m4\u001b[39m\n\u001b[0;32m      3\u001b[0m     \u001b[38;5;28;01mreturn\u001b[39;00m u\u001b[38;5;241m/\u001b[39mk\n\u001b[1;32m----> 4\u001b[0m \u001b[43mdiv\u001b[49m\u001b[43m(\u001b[49m\u001b[43m)\u001b[49m\n\u001b[0;32m      5\u001b[0m var \u001b[38;5;241m=\u001b[39m \u001b[38;5;241m9\u001b[39m\n\u001b[0;32m      6\u001b[0m \u001b[38;5;28mprint\u001b[39m(div(\u001b[38;5;241m40\u001b[39m))\n",
      "\u001b[1;31mTypeError\u001b[0m: div() missing 1 required positional argument: 'u'"
     ]
    }
   ],
   "source": [
    "def div(u):\n",
    "    k = 4\n",
    "    return u/k\n",
    "\n",
    "var = 9\n",
    "print(div(40))\n",
    "print(var)\n",
    "\n",
    "print(k)"
   ]
  },
  {
   "cell_type": "code",
   "execution_count": null,
   "id": "5e175def",
   "metadata": {},
   "outputs": [],
   "source": [
    "a = 1\n",
    " \n",
    " \n",
    "def fun():\n",
    "    global a\n",
    "    a = 2\n",
    "    print(a)\n",
    " \n",
    " \n",
    "a = 3\n",
    "fun()\n",
    "print(a)"
   ]
  },
  {
   "cell_type": "code",
   "execution_count": 81,
   "id": "9f1dbecf",
   "metadata": {},
   "outputs": [
    {
     "name": "stdout",
     "output_type": "stream",
     "text": [
      "4.444444444444445\n"
     ]
    }
   ],
   "source": [
    "def BMI(weight, height):\n",
    "    return weight/height ** 2\n",
    "print(BMI(22.1, 1.65))"
   ]
  },
  {
   "cell_type": "code",
   "execution_count": 82,
   "id": "589f5ec0",
   "metadata": {},
   "outputs": [
    {
     "name": "stdout",
     "output_type": "stream",
     "text": [
      "None\n"
     ]
    }
   ],
   "source": [
    "def BMI(weight, height):\n",
    "    if weight<20 or weight> 200 and height<1 or height>2.5:\n",
    "        return None \n",
    "    return weight/height ** 2\n",
    "print(BMI(19.1, 1.65))"
   ]
  },
  {
   "cell_type": "code",
   "execution_count": 84,
   "id": "b9f5843f",
   "metadata": {},
   "outputs": [
    {
     "name": "stdout",
     "output_type": "stream",
     "text": [
      "None\n"
     ]
    }
   ],
   "source": [
    "def BMI(weight, height):\n",
    "    if weight<20 or weight> 200 and height<1 or height>2.5:\n",
    "        return None \n",
    "    return weight/height ** 2\n",
    "print(BMI(79.1, 2.65))"
   ]
  },
  {
   "cell_type": "code",
   "execution_count": 86,
   "id": "02c361a2",
   "metadata": {},
   "outputs": [],
   "source": [
    "# if height < 1.0 or height > 2.5 or \\\n",
    "#     weight < 20 or weight > 200:   \n",
    "# Second, take a look at the way the backslash (\\) symbol is used. If you use it in Python code and end a line with it, \n",
    "# it will tell Python to continue the line of code in the next line of code."
   ]
  },
  {
   "cell_type": "code",
   "execution_count": 92,
   "id": "1b849934",
   "metadata": {},
   "outputs": [
    {
     "name": "stdout",
     "output_type": "stream",
     "text": [
      "2.2679618500000003 kg\n"
     ]
    }
   ],
   "source": [
    "def lbs_to_kg(lb):\n",
    "    return lb*(0.45359237)\n",
    "print(lbs_to_kg(5),\"kg\")"
   ]
  },
  {
   "cell_type": "code",
   "execution_count": 99,
   "id": "300c4aff",
   "metadata": {},
   "outputs": [
    {
     "name": "stdout",
     "output_type": "stream",
     "text": [
      "1.8288000000000002\n"
     ]
    }
   ],
   "source": [
    "def ft_and_inch_to_m(ft, inch):\n",
    "    return ft*0.3048 + inch*0.0254\n",
    "\n",
    "print(ft_and_inch_to_m(6,0 ))"
   ]
  },
  {
   "cell_type": "code",
   "execution_count": 100,
   "id": "c2491a63",
   "metadata": {},
   "outputs": [
    {
     "name": "stdout",
     "output_type": "stream",
     "text": [
      "1.8288000000000002\n"
     ]
    }
   ],
   "source": [
    "def ft_and_inch_to_m(ft, inch=0.0):\n",
    "    return ft*0.3048 + inch*0.0254\n",
    "\n",
    "print(ft_and_inch_to_m(6,))"
   ]
  },
  {
   "cell_type": "code",
   "execution_count": 103,
   "id": "eff96206",
   "metadata": {},
   "outputs": [
    {
     "name": "stdout",
     "output_type": "stream",
     "text": [
      "27.565214082533313\n"
     ]
    }
   ],
   "source": [
    "                   # what is the BMI of a person 5'7\" tall and weighing 176 lbs?\n",
    "def ft_and_inch_to_m(ft, inch):\n",
    "    return ft*0.3048 + inch*0.0254\n",
    "\n",
    "\n",
    "def lbs_to_kg(lb):\n",
    "    return lb*(0.45359237)\n",
    "\n",
    "def BMI(weight, height):\n",
    "    if weight<20 or weight> 200 and height<1 or height>2.5:\n",
    "        return None \n",
    "    return weight/height ** 2\n",
    "\n",
    "print(BMI(weight=lbs_to_kg(176), height= ft_and_inch_to_m(5,7)))"
   ]
  },
  {
   "cell_type": "code",
   "execution_count": null,
   "id": "df84eba1",
   "metadata": {},
   "outputs": [],
   "source": []
  }
 ],
 "metadata": {
  "kernelspec": {
   "display_name": "Python 3 (ipykernel)",
   "language": "python",
   "name": "python3"
  },
  "language_info": {
   "codemirror_mode": {
    "name": "ipython",
    "version": 3
   },
   "file_extension": ".py",
   "mimetype": "text/x-python",
   "name": "python",
   "nbconvert_exporter": "python",
   "pygments_lexer": "ipython3",
   "version": "3.9.12"
  }
 },
 "nbformat": 4,
 "nbformat_minor": 5
}
